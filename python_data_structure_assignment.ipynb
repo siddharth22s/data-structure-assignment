{
  "nbformat": 4,
  "nbformat_minor": 0,
  "metadata": {
    "colab": {
      "provenance": []
    },
    "kernelspec": {
      "name": "python3",
      "display_name": "Python 3"
    },
    "language_info": {
      "name": "python"
    }
  },
  "cells": [
    {
      "cell_type": "markdown",
      "source": [
        "# **data type and structure question**"
      ],
      "metadata": {
        "id": "ghUovG0QuIsx"
      }
    },
    {
      "cell_type": "markdown",
      "source": [
        "**1. What are data structures, and why are they important?**"
      ],
      "metadata": {
        "id": "BHMurA2FuTP9"
      }
    },
    {
      "cell_type": "markdown",
      "source": [
        "- Data structures are ways to organize and store data in a computer so that it can be used efficiently. Think of them like different types of containers that hold information."
      ],
      "metadata": {
        "id": "HChqzcopufDz"
      }
    },
    {
      "cell_type": "markdown",
      "source": [
        "**2. Explain the difference between mutable and immutable data types with examples**"
      ],
      "metadata": {
        "id": "M_PHgpxdvJIx"
      }
    },
    {
      "cell_type": "markdown",
      "source": [
        "- mutable >> Can be changed after creation.\n",
        "example> list"
      ],
      "metadata": {
        "id": "ZPwm35zuvzsa"
      }
    },
    {
      "cell_type": "code",
      "source": [
        "my_list = [1, 2, 3]\n",
        "my_list[0] = 10  # Change the first element\n",
        "print(my_list)"
      ],
      "metadata": {
        "colab": {
          "base_uri": "https://localhost:8080/"
        },
        "id": "IT-n_Fkjv_Rs",
        "outputId": "1186da88-637e-4294-955f-02830f1aa982"
      },
      "execution_count": null,
      "outputs": [
        {
          "output_type": "stream",
          "name": "stdout",
          "text": [
            "[10, 2, 3]\n"
          ]
        }
      ]
    },
    {
      "cell_type": "markdown",
      "source": [
        "- immutable >> can't be change the value\n",
        "example > tuple"
      ],
      "metadata": {
        "id": "7swGvP_5wJ9B"
      }
    },
    {
      "cell_type": "code",
      "source": [
        "my_tuple=(\"hello\",2,4,5,5)\n",
        "my_tuple[2]=20 # this was cause a error\n",
        "print(my_tuple)"
      ],
      "metadata": {
        "colab": {
          "base_uri": "https://localhost:8080/",
          "height": 176
        },
        "id": "1aQ-7x4vwmAN",
        "outputId": "6012213a-a269-4934-f779-ba425ace6c48"
      },
      "execution_count": null,
      "outputs": [
        {
          "output_type": "error",
          "ename": "TypeError",
          "evalue": "'tuple' object does not support item assignment",
          "traceback": [
            "\u001b[0;31m---------------------------------------------------------------------------\u001b[0m",
            "\u001b[0;31mTypeError\u001b[0m                                 Traceback (most recent call last)",
            "\u001b[0;32m<ipython-input-5-437f87f4c6b4>\u001b[0m in \u001b[0;36m<cell line: 0>\u001b[0;34m()\u001b[0m\n\u001b[1;32m      1\u001b[0m \u001b[0mmy_tuple\u001b[0m\u001b[0;34m=\u001b[0m\u001b[0;34m(\u001b[0m\u001b[0;34m\"hello\"\u001b[0m\u001b[0;34m,\u001b[0m\u001b[0;36m2\u001b[0m\u001b[0;34m,\u001b[0m\u001b[0;36m4\u001b[0m\u001b[0;34m,\u001b[0m\u001b[0;36m5\u001b[0m\u001b[0;34m,\u001b[0m\u001b[0;36m5\u001b[0m\u001b[0;34m)\u001b[0m\u001b[0;34m\u001b[0m\u001b[0;34m\u001b[0m\u001b[0m\n\u001b[0;32m----> 2\u001b[0;31m \u001b[0mmy_tuple\u001b[0m\u001b[0;34m[\u001b[0m\u001b[0;36m2\u001b[0m\u001b[0;34m]\u001b[0m\u001b[0;34m=\u001b[0m\u001b[0;36m20\u001b[0m \u001b[0;31m# this was cause a error\u001b[0m\u001b[0;34m\u001b[0m\u001b[0;34m\u001b[0m\u001b[0m\n\u001b[0m\u001b[1;32m      3\u001b[0m \u001b[0mprint\u001b[0m\u001b[0;34m(\u001b[0m\u001b[0mmy_tuple\u001b[0m\u001b[0;34m)\u001b[0m\u001b[0;34m\u001b[0m\u001b[0;34m\u001b[0m\u001b[0m\n",
            "\u001b[0;31mTypeError\u001b[0m: 'tuple' object does not support item assignment"
          ]
        }
      ]
    },
    {
      "cell_type": "markdown",
      "source": [
        "**3. What are the main differences between lists and tuples in Python?**"
      ],
      "metadata": {
        "id": "PUQDpkjYxX_L"
      }
    },
    {
      "cell_type": "markdown",
      "source": [
        "- list>"
      ],
      "metadata": {
        "id": "x_z_-ootxnmj"
      }
    },
    {
      "cell_type": "markdown",
      "source": [
        "1. list is mutable\n",
        "2. it define using square brackets[]\n",
        "3. Generally slower than tuples because they allow modifications.\n",
        "4.Used when you need a collection of items that may change, such as a list of user inputs.\n",
        "5.have many built-in methods (like append(), remove(), sort()) for modifying the list."
      ],
      "metadata": {
        "id": "MSmBRX52yxVl"
      }
    },
    {
      "cell_type": "markdown",
      "source": [
        "- tuple\n",
        "1. tuple is immutable\n",
        "2. it define using perentheses\n",
        "3. Faster than lists due to their immutability, making them more efficient in terms of memory and performance.\n",
        "4. Used when you need a fixed collection of items, such as coordinates or a record of data that should not change\n",
        "5.  Have fewer built-in methods (like count() and index()) since they cannot be modified."
      ],
      "metadata": {
        "id": "Q6fcXqRYzEL2"
      }
    },
    {
      "cell_type": "markdown",
      "source": [
        "**4. Describe how dictionaries store data.**"
      ],
      "metadata": {
        "id": "Cg7eLds90Bbg"
      }
    },
    {
      "cell_type": "markdown",
      "source": [
        "- dictionaries in Python are a type of data structure that store data in key-value pairs."
      ],
      "metadata": {
        "id": "spTCuWaR0L2A"
      }
    },
    {
      "cell_type": "code",
      "source": [
        "my_dict={\"name\":\"siddharth\",\"age\":19,\"ADDRESS\":\"manasa\"}\n",
        "print(my_dict)"
      ],
      "metadata": {
        "colab": {
          "base_uri": "https://localhost:8080/"
        },
        "id": "ayEXkUJ_0eI9",
        "outputId": "16768e22-0915-43c3-8d5f-8360917db14a"
      },
      "execution_count": null,
      "outputs": [
        {
          "output_type": "stream",
          "name": "stdout",
          "text": [
            "{'name': 'siddharth', 'age': 19, 'ADDRESS': 'manasa'}\n"
          ]
        }
      ]
    },
    {
      "cell_type": "markdown",
      "source": [
        "**5. Why might you use a set instead of a list in Python?**"
      ],
      "metadata": {
        "id": "LEWMitZ31Dzw"
      }
    },
    {
      "cell_type": "markdown",
      "source": [
        "- You might use a set instead of a list in Python when you need to store a collection of unique elements, as sets automatically eliminate duplicates, provide faster membership testing, support efficient mathematical operations like union and intersection, and do not maintain any specific order, making them ideal for scenarios where uniqueness and performance are prioritized over element order"
      ],
      "metadata": {
        "id": "-5GvMQ_g1RW2"
      }
    },
    {
      "cell_type": "markdown",
      "source": [
        "**6. What is a string in Python, and how is it different from a list?**"
      ],
      "metadata": {
        "id": "-jetNbga2BaW"
      }
    },
    {
      "cell_type": "markdown",
      "source": [
        "- A string in Python is a sequence of characters used to represent text, and it is immutable, meaning once created, its content cannot be changed, while a list is a collection of items (which can be of different types) that is mutable, allowing you to modify, add, or remove elements after it is created; in simple terms, strings are for text that doesn't change, while lists are for collections of items that can change."
      ],
      "metadata": {
        "id": "d1-sTQ8b2Qkk"
      }
    },
    {
      "cell_type": "markdown",
      "source": [
        "**7. How do tuples ensure data integrity in Python?**"
      ],
      "metadata": {
        "id": "dZuaoy_A2kKP"
      }
    },
    {
      "cell_type": "markdown",
      "source": [
        "- Tuples ensure data integrity in Python by being immutable, meaning that once a tuple is created, its contents cannot be changed, added, or removed, which helps prevent accidental modifications and maintains the original data throughout the program."
      ],
      "metadata": {
        "id": "uUm_n87P3EoA"
      }
    },
    {
      "cell_type": "markdown",
      "source": [
        "**8. What is a hash table, and how does it relate to dictionaries in Python?**"
      ],
      "metadata": {
        "id": "inyP0MjW3IX9"
      }
    },
    {
      "cell_type": "markdown",
      "source": [
        "- A hash table is a data structure that stores key-value pairs efficiently, making it quick to look up, add, or remove items. It works by using a hash function to convert a key into an index, where the corresponding value is stored.\n",
        "\n",
        "In Python, dictionaries (dict) are built using hash tables! When you create a dictionary and store values using keys, Python uses a hash table behind the scenes to organize and access the data quickly. That's why looking up a value in a dictionary is super fast—even with lots of data."
      ],
      "metadata": {
        "id": "xwv19sSs3Uha"
      }
    },
    {
      "cell_type": "markdown",
      "source": [
        "**9. Can lists contain different data types in Python?**"
      ],
      "metadata": {
        "id": "GYqRtUv34BvW"
      }
    },
    {
      "cell_type": "markdown",
      "source": [
        "- Yes! In Python, a list can hold different types of data in one place. You can mix numbers, strings, booleans, and even other lists together!"
      ],
      "metadata": {
        "id": "u3Aq7ZgJ4LGV"
      }
    },
    {
      "cell_type": "code",
      "source": [
        "my_list=[1,\"hello\",3.6,True,[1,2,4,5]]\n",
        "print(my_list)"
      ],
      "metadata": {
        "colab": {
          "base_uri": "https://localhost:8080/"
        },
        "id": "kYcGy3-X4mFR",
        "outputId": "f0669af8-a76b-4885-8dbc-0ca3cbe0913f"
      },
      "execution_count": null,
      "outputs": [
        {
          "output_type": "stream",
          "name": "stdout",
          "text": [
            "[1, 'hello', 3.6, True, [1, 2, 4, 5]]\n"
          ]
        }
      ]
    },
    {
      "cell_type": "markdown",
      "source": [
        "**10. Explain why strings are immutable in Python.**"
      ],
      "metadata": {
        "id": "1WojA6024_3D"
      }
    },
    {
      "cell_type": "markdown",
      "source": [
        "- In Python, strings are immutable, meaning once you create a string, you cannot change it. This happens because strings are stored in a way that makes them efficient and safe to use."
      ],
      "metadata": {
        "id": "khwr_7Id5MHQ"
      }
    },
    {
      "cell_type": "markdown",
      "source": [
        "**11. What advantages do dictionaries offer over lists for certain tasks**"
      ],
      "metadata": {
        "id": "dr0xGgPg5UJO"
      }
    },
    {
      "cell_type": "markdown",
      "source": [
        "- Dictionaries offer several advantages over lists for certain tasks because they store data as key-value pairs, making them faster and more efficient in many scenarios. Here are some key benefits:"
      ],
      "metadata": {
        "id": "hopKSXCy5rqa"
      }
    },
    {
      "cell_type": "markdown",
      "source": [
        "1. Fast Lookup\n",
        "\n",
        "In a list, searching for an item requires scanning the entire list (O(n) time complexity).\n",
        "In a dictionary, looking up a value using a key is super fast (O(1) time complexity on average) thanks to hashing.\n",
        "\n",
        "2. Meaningful Data Organization\n",
        "lists store items in a sequence, while dictionaries store data in an easily readable key-value format.\n",
        "\n",
        "3. asy Updates & Modifications\n",
        "Adding or updating values in a dictionary is more efficient than modifying elements in a list, especially for large datasets.\n",
        "\n",
        "4. Avoiding Duplicates\n",
        "Keys in a dictionary are unique, meaning there can’t be duplicate keys. Lists allow duplicate values, which can lead to unnecessary repetition or confusion.\n",
        "\n",
        "5. Better for Large Data Sets\n",
        "If you have lots of data and need frequent lookups, dictionaries save time by directly accessing values rather than scanning through a list."
      ],
      "metadata": {
        "id": "qTEMouv15uYR"
      }
    },
    {
      "cell_type": "markdown",
      "source": [
        "**12. Describe a scenario where using a tuple would be preferable over a list.**"
      ],
      "metadata": {
        "id": "d-uJEUeG59Ox"
      }
    },
    {
      "cell_type": "markdown",
      "source": [
        "- A tuple is better than a list when you need data that should not change.\n",
        "Example: Storing coordinates (latitude & longitude) for a location.\n",
        "\n",
        "Tuples are immutable, preventing accidental changes.They use less memory, making them efficient.They can be used as dictionary keys because they are fixed.\n",
        "Use tuples when data needs to stay the same!"
      ],
      "metadata": {
        "id": "0D25xE0S664I"
      }
    },
    {
      "cell_type": "markdown",
      "source": [
        " **13. How do sets handle duplicate values in Python**"
      ],
      "metadata": {
        "id": "6staxnk37YI6"
      }
    },
    {
      "cell_type": "markdown",
      "source": [
        "In Python, sets automatically remove duplicates! When you add duplicate values to a set, only unique items are kept."
      ],
      "metadata": {
        "id": "fwXEJu0W7pCL"
      }
    },
    {
      "cell_type": "markdown",
      "source": [
        "**14. How does the “in” keyword work differently for lists and dictionaries?**"
      ],
      "metadata": {
        "id": "Jj_QXOu77tJb"
      }
    },
    {
      "cell_type": "markdown",
      "source": [
        "- The in keyword checks if an item exists in a collection, but works differently for lists and dictionaries:\n",
        "\n",
        "In Lists > Checks if a value exists in the list.\n",
        "\n",
        "In Dictionaries > Checks if a key exists, not values."
      ],
      "metadata": {
        "id": "Qy1toW1k7z3V"
      }
    },
    {
      "cell_type": "markdown",
      "source": [
        "**15. Can you modify the elements of a tuple? Explain why or why not**"
      ],
      "metadata": {
        "id": "lE77SlWO8cLb"
      }
    },
    {
      "cell_type": "markdown",
      "source": [
        "- No, you cannot modify the elements of a tuple because tuples are immutable in Python.\n",
        "\n",
        "Once a tuple is created, its values cannot be changed, added, or removed. This makes tuples useful for storing fixed data that should not be accidentally modified."
      ],
      "metadata": {
        "id": "7NmrcS-d8TAC"
      }
    },
    {
      "cell_type": "markdown",
      "source": [
        "**16. What is a nested dictionary, and give an example of its use case?**"
      ],
      "metadata": {
        "id": "VEFkPm1nYUuO"
      }
    },
    {
      "cell_type": "markdown",
      "source": [
        "- A nested dictionary is a dictionary inside another dictionary. It helps organize data in a structured way, making it easy to access related information."
      ],
      "metadata": {
        "id": "Yhr_lV2BYdAq"
      }
    },
    {
      "cell_type": "markdown",
      "source": [
        "**17. Describe the time complexity of accessing elements in a dictionary.**"
      ],
      "metadata": {
        "id": "YO1-gx1IYkqB"
      }
    },
    {
      "cell_type": "markdown",
      "source": [
        "- Accessing elements in a dictionary is very fast!\n",
        "\n",
        "----Time Complexity>>>\n",
        "\n",
        "Average case: O(1) (constant time) → It takes the same amount of time to find an element, no matter how big the dictionary is.\n",
        "\n",
        "Worst case: O(n) (linear time) → This happens rarely when there's a hash collision, meaning multiple keys accidentally end up at the same place."
      ],
      "metadata": {
        "id": "YxU2g-vwZGfk"
      }
    },
    {
      "cell_type": "markdown",
      "source": [
        "**18. In what situations are lists preferred over dictionaries?**"
      ],
      "metadata": {
        "id": "L9c94klGZ41S"
      }
    },
    {
      "cell_type": "markdown",
      "source": [
        "- Lists are preferred over dictionaries in these situations:\n",
        "     1. When Order Matters >> Lists keep elements in a specific order.\n",
        "     2. When You Need to Store Similar Items >> Lists are ideal for storing groups of related items, like a collection of names, numbers, or colors.\n",
        "     3. When You Need Easy Iteration >> Looping through a list is straightforward, making it useful for tasks like checking all items or performing calculations.\n",
        "     4. When You Don’t Need Fast Lookups >> Dictionaries are faster for finding specific items, but if you don’t need quick searching by a key, lists work just fine."
      ],
      "metadata": {
        "id": "MGu2BONmaBuN"
      }
    },
    {
      "cell_type": "markdown",
      "source": [
        "**19. Why are dictionaries considered unordered, and how does that affect data retrieval?**"
      ],
      "metadata": {
        "id": "4uqNvJQabbVV"
      }
    },
    {
      "cell_type": "markdown",
      "source": [
        "- Dictionaries are considered unordered because they don’t store items in a fixed sequence like lists do. Instead, they use keys to find values quickly, without worrying about their position."
      ],
      "metadata": {
        "id": "NdDjwEc0ct8a"
      }
    },
    {
      "cell_type": "markdown",
      "source": [
        "**20. Explain the difference between a list and a dictionary in terms of data retrieval.**"
      ],
      "metadata": {
        "id": "LM0lK8bSdQaN"
      }
    },
    {
      "cell_type": "markdown",
      "source": [
        " - Explain the difference between a list and a dictionary in terms of data retrieval.\n",
        "\n",
        " List>>\n",
        "\n",
        "\n",
        "\n",
        "Ordered → Items are stored in a sequence.\n",
        "\n",
        "Access by index → You retrieve data using a position number (e.g., list[0]).\n",
        "\n",
        "Slower for searching → If you need to find an item, you may have to check every element one by one.\n",
        "\n",
        "\n",
        "Dictionary>>   \n",
        "\n",
        "\n",
        "Unordered → Items are stored using unique keys.\n",
        "\n",
        "Access by key → You retrieve data using a specific name (e.g., dict[\"name\"]).\n",
        "\n",
        "Faster for searching → Since dictionaries use hash tables, they quickly find values without scanning everything."
      ],
      "metadata": {
        "id": "wX4Qxiqadilw"
      }
    },
    {
      "cell_type": "markdown",
      "source": [
        "# **Practical Questions**"
      ],
      "metadata": {
        "id": "nj6HYZbxqC5F"
      }
    },
    {
      "cell_type": "markdown",
      "source": [
        "**1. Write a code to create a string with your name and print it.**"
      ],
      "metadata": {
        "id": "LOXBMNLfqXk2"
      }
    },
    {
      "cell_type": "code",
      "source": [
        "name = \"siddharth\"\n",
        "print(name)"
      ],
      "metadata": {
        "colab": {
          "base_uri": "https://localhost:8080/"
        },
        "id": "KOgdQQuxqp6n",
        "outputId": "188c6695-01d4-42c5-8b11-2974a0b829c1"
      },
      "execution_count": 1,
      "outputs": [
        {
          "output_type": "stream",
          "name": "stdout",
          "text": [
            "siddharth\n"
          ]
        }
      ]
    },
    {
      "cell_type": "markdown",
      "source": [
        "**2. Write a code to find the length of the string \"Hello World\".**"
      ],
      "metadata": {
        "id": "iWYbGUV6q5ur"
      }
    },
    {
      "cell_type": "code",
      "source": [
        "n= \"Hello World\"\n",
        "print(len(n))"
      ],
      "metadata": {
        "colab": {
          "base_uri": "https://localhost:8080/"
        },
        "id": "bca8cgcLq0fF",
        "outputId": "8bc47f0c-9124-42c1-b645-24ecbed377f3"
      },
      "execution_count": 2,
      "outputs": [
        {
          "output_type": "stream",
          "name": "stdout",
          "text": [
            "11\n"
          ]
        }
      ]
    },
    {
      "cell_type": "markdown",
      "source": [
        "**3. Write a code to slice the first 3 characters from the string \"Python Programming\".**"
      ],
      "metadata": {
        "id": "qzwhdBg4rT8F"
      }
    },
    {
      "cell_type": "code",
      "source": [
        "a = \"siddharth sen\"\n",
        "print(a[0:3])"
      ],
      "metadata": {
        "colab": {
          "base_uri": "https://localhost:8080/"
        },
        "id": "17SXMhxVrhOV",
        "outputId": "ff074dc7-3eb0-445a-ccde-4eca79cfde48"
      },
      "execution_count": 3,
      "outputs": [
        {
          "output_type": "stream",
          "name": "stdout",
          "text": [
            "sid\n"
          ]
        }
      ]
    },
    {
      "cell_type": "markdown",
      "source": [
        "**4. Write a code to convert the string \"hello\" to uppercase.**"
      ],
      "metadata": {
        "id": "_jB6MXtEr8Hn"
      }
    },
    {
      "cell_type": "code",
      "source": [
        "a = \"hello\"\n",
        "print(a.upper())"
      ],
      "metadata": {
        "colab": {
          "base_uri": "https://localhost:8080/"
        },
        "id": "_u2BI3lVr7tO",
        "outputId": "e1c84fe8-265d-4b38-9101-2cc9b2106207"
      },
      "execution_count": 4,
      "outputs": [
        {
          "output_type": "stream",
          "name": "stdout",
          "text": [
            "HELLO\n"
          ]
        }
      ]
    },
    {
      "cell_type": "markdown",
      "source": [
        "**5.  Write a code to replace the word \"apple\" with \"orange\" in the string \"I like apple\".**"
      ],
      "metadata": {
        "id": "v5xH0wZJsLyb"
      }
    },
    {
      "cell_type": "code",
      "source": [
        "text = \"i like apple\"\n",
        "print(text)\n",
        "new_text = text.replace(\"apple\",\"orange\")\n",
        "print(new_text)"
      ],
      "metadata": {
        "colab": {
          "base_uri": "https://localhost:8080/"
        },
        "id": "hFOHxRpysVnO",
        "outputId": "747defe7-ec13-4cd1-c09e-9c12bd6df678"
      },
      "execution_count": 8,
      "outputs": [
        {
          "output_type": "stream",
          "name": "stdout",
          "text": [
            "i like apple\n",
            "i like orange\n"
          ]
        }
      ]
    },
    {
      "cell_type": "markdown",
      "source": [
        "**6. Write a code to create a list with numbers 1 to 5 and print it.**"
      ],
      "metadata": {
        "id": "sDL7Qa_ztcAb"
      }
    },
    {
      "cell_type": "code",
      "source": [
        "L = [1,2,3,4,5]\n",
        "print(L)"
      ],
      "metadata": {
        "colab": {
          "base_uri": "https://localhost:8080/"
        },
        "id": "jRw82s1ct4cZ",
        "outputId": "53ee0021-df61-4774-cc3a-0b518a834dbb"
      },
      "execution_count": 9,
      "outputs": [
        {
          "output_type": "stream",
          "name": "stdout",
          "text": [
            "[1, 2, 3, 4, 5]\n"
          ]
        }
      ]
    },
    {
      "cell_type": "markdown",
      "source": [
        "**7. Write a code to append the number 10 to the list [1, 2, 3, 4].**"
      ],
      "metadata": {
        "id": "P37D7dxmuEHi"
      }
    },
    {
      "cell_type": "code",
      "source": [
        "L = [1,2,3,4]\n",
        "L.append(10)\n",
        "print(L)"
      ],
      "metadata": {
        "colab": {
          "base_uri": "https://localhost:8080/"
        },
        "id": "k-euwIApuVgb",
        "outputId": "b1449168-66f8-4bae-ff25-9f461e3d4e4b"
      },
      "execution_count": 10,
      "outputs": [
        {
          "output_type": "stream",
          "name": "stdout",
          "text": [
            "[1, 2, 3, 4, 10]\n"
          ]
        }
      ]
    },
    {
      "cell_type": "markdown",
      "source": [
        "**8. Write a code to remove the number 3 from the list [1, 2, 3, 4, 5]**"
      ],
      "metadata": {
        "id": "3SmpOd2puk_R"
      }
    },
    {
      "cell_type": "code",
      "source": [
        "L = [1,2,3,4,5]\n",
        "L.remove(3)\n",
        "print(L)"
      ],
      "metadata": {
        "colab": {
          "base_uri": "https://localhost:8080/"
        },
        "id": "Fs3sWOMUux0Z",
        "outputId": "a400aece-31c0-4ccc-ad6f-967012ada424"
      },
      "execution_count": 14,
      "outputs": [
        {
          "output_type": "stream",
          "name": "stdout",
          "text": [
            "[1, 2, 4, 5]\n"
          ]
        }
      ]
    },
    {
      "cell_type": "markdown",
      "source": [
        "**9. Write a code to access the second element in the list ['a', 'b', 'c', 'd'].**"
      ],
      "metadata": {
        "id": "0AflnHMrvNdM"
      }
    },
    {
      "cell_type": "code",
      "source": [
        "lis=[\"a\",\"b\",\"c\",\"d\"]\n",
        "print(lis[1])"
      ],
      "metadata": {
        "colab": {
          "base_uri": "https://localhost:8080/"
        },
        "id": "XwzLpZMAvYMs",
        "outputId": "0a2b961e-1bb0-4402-d056-f0512819bb2e"
      },
      "execution_count": 16,
      "outputs": [
        {
          "output_type": "stream",
          "name": "stdout",
          "text": [
            "b\n"
          ]
        }
      ]
    },
    {
      "cell_type": "markdown",
      "source": [
        "**10. Write a code to reverse the list [10, 20, 30, 40, 50].**"
      ],
      "metadata": {
        "id": "ZOoFsCQbwC_6"
      }
    },
    {
      "cell_type": "code",
      "source": [
        "l = [10,20,30,40,50]\n",
        "reverse_l = l[::-1] # using slicing method\n",
        "print(reverse_l)"
      ],
      "metadata": {
        "colab": {
          "base_uri": "https://localhost:8080/"
        },
        "id": "kY5rK8fgwMFP",
        "outputId": "2da8eb5d-1331-4e40-e29c-f5e6405612fb"
      },
      "execution_count": 23,
      "outputs": [
        {
          "output_type": "stream",
          "name": "stdout",
          "text": [
            "[50, 40, 30, 20, 10]\n"
          ]
        }
      ]
    },
    {
      "cell_type": "markdown",
      "source": [
        "**11. Write a code to create a tuple with the elements 100, 200, 300 and print it.**"
      ],
      "metadata": {
        "id": "ShViXw9oxQzu"
      }
    },
    {
      "cell_type": "code",
      "source": [
        "t = (100,200,300)\n",
        "print(t)"
      ],
      "metadata": {
        "colab": {
          "base_uri": "https://localhost:8080/"
        },
        "id": "P-IQam1JxXSW",
        "outputId": "7c0c3aba-aef9-48f7-bb3e-c72e98f73196"
      },
      "execution_count": 24,
      "outputs": [
        {
          "output_type": "stream",
          "name": "stdout",
          "text": [
            "(100, 200, 300)\n"
          ]
        }
      ]
    },
    {
      "cell_type": "markdown",
      "source": [
        "**12. Write a code to access the second-to-last element of the tuple ('red', 'green', 'blue', 'yellow').**"
      ],
      "metadata": {
        "id": "hXrbkrpOxgq8"
      }
    },
    {
      "cell_type": "code",
      "source": [
        "tup = ('red', 'green', 'blue', 'yellow')\n",
        "print(tup[1:])"
      ],
      "metadata": {
        "colab": {
          "base_uri": "https://localhost:8080/"
        },
        "id": "iuq04q92xteb",
        "outputId": "f00a7eb4-bb19-41af-9bae-f20ce189fda9"
      },
      "execution_count": 27,
      "outputs": [
        {
          "output_type": "stream",
          "name": "stdout",
          "text": [
            "('green', 'blue', 'yellow')\n"
          ]
        }
      ]
    },
    {
      "cell_type": "markdown",
      "source": [
        "**13. Write a code to find the minimum number in the tuple (10, 20, 5, 15).**"
      ],
      "metadata": {
        "id": "4f8qzeRkznhK"
      }
    },
    {
      "cell_type": "code",
      "source": [
        "my_tuple = (10, 20, 5, 15)\n",
        "min_tuple = min(my_tuple)\n",
        "print(min_tuple)"
      ],
      "metadata": {
        "colab": {
          "base_uri": "https://localhost:8080/"
        },
        "id": "z8Ju9aoazvz5",
        "outputId": "b24ac49f-8de8-415c-e868-d02b7dcdb90d"
      },
      "execution_count": 30,
      "outputs": [
        {
          "output_type": "stream",
          "name": "stdout",
          "text": [
            "5\n"
          ]
        }
      ]
    },
    {
      "cell_type": "markdown",
      "source": [
        "**14. Write a code to find the index of the element \"cat\" in the tuple ('dog', 'cat', 'rabbit')**"
      ],
      "metadata": {
        "id": "nxcN8YzG1XyJ"
      }
    },
    {
      "cell_type": "code",
      "source": [
        "animal = ('dog', 'cat', 'rabbit')\n",
        "index_of_cat = animal.index(\"cat\")\n",
        "print(index_of_cat)"
      ],
      "metadata": {
        "colab": {
          "base_uri": "https://localhost:8080/"
        },
        "id": "6QSxn6TP1jkx",
        "outputId": "b2ddff5b-a955-4fd8-d188-ab64348502db"
      },
      "execution_count": 31,
      "outputs": [
        {
          "output_type": "stream",
          "name": "stdout",
          "text": [
            "1\n"
          ]
        }
      ]
    },
    {
      "cell_type": "markdown",
      "source": [
        "**15. Write a code to create a tuple containing three different fruits and check if \"kiwi\" is in it.**"
      ],
      "metadata": {
        "id": "_Nz1V5uY5gmz"
      }
    },
    {
      "cell_type": "code",
      "source": [
        "tup = (\"apple\",\"kiwi\",\"banana\")\n",
        "if \"kiwi\" in tup:\n",
        "   print(\"kiwi is in the tuple\")\n",
        "else:\n",
        "     print(\"kiwi is not in the tuple\")"
      ],
      "metadata": {
        "colab": {
          "base_uri": "https://localhost:8080/"
        },
        "id": "V9hIx8Jv5fxN",
        "outputId": "aa749fca-4565-441e-d319-89be4911dbdb"
      },
      "execution_count": 36,
      "outputs": [
        {
          "output_type": "stream",
          "name": "stdout",
          "text": [
            "kiwi is in the tuple\n"
          ]
        }
      ]
    },
    {
      "cell_type": "markdown",
      "source": [
        "**16. Write a code to create a set with the elements 'a', 'b', 'c' and print it.**"
      ],
      "metadata": {
        "id": "Zypb45KS6n3T"
      }
    },
    {
      "cell_type": "code",
      "source": [
        "s = {\"a\",\"b\",\"c\"}\n",
        "print(type(s))\n",
        "print(s)"
      ],
      "metadata": {
        "colab": {
          "base_uri": "https://localhost:8080/"
        },
        "id": "sUQct5w36wN1",
        "outputId": "2554de20-3fd9-4c0f-87f9-cbf4547febe2"
      },
      "execution_count": 39,
      "outputs": [
        {
          "output_type": "stream",
          "name": "stdout",
          "text": [
            "<class 'set'>\n",
            "{'b', 'a', 'c'}\n"
          ]
        }
      ]
    },
    {
      "cell_type": "markdown",
      "source": [],
      "metadata": {
        "id": "69SLuIqU7MLm"
      }
    },
    {
      "cell_type": "markdown",
      "source": [
        "**17. Write a code to clear all elements from the set {1, 2, 3, 4, 5}.**"
      ],
      "metadata": {
        "id": "EejBilDW7NCk"
      }
    },
    {
      "cell_type": "code",
      "source": [
        "set_element = {1,2,3,4,5}\n",
        "set_element.clear()\n",
        "print(set_element)\n"
      ],
      "metadata": {
        "colab": {
          "base_uri": "https://localhost:8080/"
        },
        "id": "83q-WVYt7RTs",
        "outputId": "239ae016-11e1-475b-83d1-14ea4dd5a0f4"
      },
      "execution_count": 42,
      "outputs": [
        {
          "output_type": "stream",
          "name": "stdout",
          "text": [
            "set()\n"
          ]
        }
      ]
    },
    {
      "cell_type": "markdown",
      "source": [
        "**18. Write a code to remove the element 4 from the set {1, 2, 3, 4}**"
      ],
      "metadata": {
        "id": "mZjYtJTB8a4p"
      }
    },
    {
      "cell_type": "code",
      "source": [
        "my_set = {1,2,3,4}\n",
        "my_set.remove(4)\n",
        "print(my_set)"
      ],
      "metadata": {
        "colab": {
          "base_uri": "https://localhost:8080/"
        },
        "id": "JJUwBFSy8h2W",
        "outputId": "7f53e57f-e13e-4f01-dc40-7d00eb690f58"
      },
      "execution_count": 43,
      "outputs": [
        {
          "output_type": "stream",
          "name": "stdout",
          "text": [
            "{1, 2, 3}\n"
          ]
        }
      ]
    },
    {
      "cell_type": "markdown",
      "source": [
        "**19. Write a code to find the union of two sets {1, 2, 3} and {3, 4, 5}**"
      ],
      "metadata": {
        "id": "TbzGX-Wb82x6"
      }
    },
    {
      "cell_type": "code",
      "source": [
        "set1 = {1,2,3}\n",
        "set2 = {3,4,5}\n",
        "union_set = set1.union(set2)\n",
        "print(union_set)"
      ],
      "metadata": {
        "colab": {
          "base_uri": "https://localhost:8080/"
        },
        "id": "6wjSvmdV9C6y",
        "outputId": "f306c529-c595-4c75-e8f9-332e12dbede3"
      },
      "execution_count": 44,
      "outputs": [
        {
          "output_type": "stream",
          "name": "stdout",
          "text": [
            "{1, 2, 3, 4, 5}\n"
          ]
        }
      ]
    },
    {
      "cell_type": "markdown",
      "source": [
        "**20. Write a code to find the intersection of two sets {1, 2, 3} and {2, 3, 4}.**"
      ],
      "metadata": {
        "id": "B8W3gjMh9nlN"
      }
    },
    {
      "cell_type": "code",
      "source": [
        "set1 = {1,2,3}\n",
        "set2 = {2,3,4}\n",
        "intersection_set = set1.intersection(set2)\n",
        "print(intersection_set)"
      ],
      "metadata": {
        "colab": {
          "base_uri": "https://localhost:8080/"
        },
        "id": "9Nt6t_B_9wQV",
        "outputId": "bf29f59e-4405-40b5-e88f-0916ea943288"
      },
      "execution_count": 45,
      "outputs": [
        {
          "output_type": "stream",
          "name": "stdout",
          "text": [
            "{2, 3}\n"
          ]
        }
      ]
    },
    {
      "cell_type": "markdown",
      "source": [
        "**21. Write a code to create a dictionary with the keys \"name\", \"age\", and \"city\", and print it.**"
      ],
      "metadata": {
        "id": "h1FZR7cZ-d0M"
      }
    },
    {
      "cell_type": "code",
      "source": [
        "dic = {\"name\":\"siddharth\",\"age\":19,\"city\":\"manasa\"}\n",
        "print(dic)"
      ],
      "metadata": {
        "colab": {
          "base_uri": "https://localhost:8080/"
        },
        "id": "n542n079-ld0",
        "outputId": "5ee0f57c-3b0e-4638-8408-982f075eaafd"
      },
      "execution_count": 47,
      "outputs": [
        {
          "output_type": "stream",
          "name": "stdout",
          "text": [
            "{'name': 'siddharth', 'age': 19, 'city': 'manasa'}\n"
          ]
        }
      ]
    },
    {
      "cell_type": "markdown",
      "source": [
        "**22. Write a code to add a new key-value pair \"country\": \"USA\" to the dictionary {'name': 'John', 'age': 25}.**"
      ],
      "metadata": {
        "id": "XtEGh4gy_KO4"
      }
    },
    {
      "cell_type": "code",
      "source": [
        " my_dict = {'name': 'John', 'age': 25}\n",
        " my_dict[\"country\"] = \"USA\"\n",
        " print(my_dict)"
      ],
      "metadata": {
        "colab": {
          "base_uri": "https://localhost:8080/"
        },
        "id": "QWLqNuCU_Skz",
        "outputId": "f5c00b78-6f70-45ce-9fb3-317b19f7d8ad"
      },
      "execution_count": 49,
      "outputs": [
        {
          "output_type": "stream",
          "name": "stdout",
          "text": [
            "{'name': 'John', 'age': 25, 'country': 'USA'}\n"
          ]
        }
      ]
    },
    {
      "cell_type": "markdown",
      "source": [
        "**23. Write a code to access the value associated with the key \"name\" in the dictionary {'name': 'Alice', 'age': 30}.**"
      ],
      "metadata": {
        "id": "u-QLDqwy_6nC"
      }
    },
    {
      "cell_type": "code",
      "source": [
        "my_dict = {\"name\":\"alice\",\"age\":30}\n",
        "print(my_dict[\"name\"])"
      ],
      "metadata": {
        "colab": {
          "base_uri": "https://localhost:8080/"
        },
        "id": "Q15MYPWXAGhy",
        "outputId": "14821ba7-24c6-42ad-f546-4c611c1cd84e"
      },
      "execution_count": 50,
      "outputs": [
        {
          "output_type": "stream",
          "name": "stdout",
          "text": [
            "alice\n"
          ]
        }
      ]
    },
    {
      "cell_type": "markdown",
      "source": [
        "**24. Write a code to remove the key \"age\" from the dictionary {'name': 'Bob', 'age': 22, 'city': 'New York'}.**"
      ],
      "metadata": {
        "id": "BUoe29sJAfNw"
      }
    },
    {
      "cell_type": "code",
      "source": [
        "dict_a= {'name': 'Bob', 'age': 22, 'city': 'New York'}\n",
        "dict_a.pop(\"age\")\n",
        "print(dict_a)"
      ],
      "metadata": {
        "colab": {
          "base_uri": "https://localhost:8080/"
        },
        "id": "IGWar9KxAoRP",
        "outputId": "ed73c9dd-1c28-446a-dfa8-abf7c725f773"
      },
      "execution_count": 51,
      "outputs": [
        {
          "output_type": "stream",
          "name": "stdout",
          "text": [
            "{'name': 'Bob', 'city': 'New York'}\n"
          ]
        }
      ]
    },
    {
      "cell_type": "markdown",
      "source": [
        "**25. Write a code to check if the key \"city\" exists in the dictionary {'name': 'Alice', 'city': 'Paris'}.**"
      ],
      "metadata": {
        "id": "KFCKz6rLBEPd"
      }
    },
    {
      "cell_type": "code",
      "source": [
        "info =  {'name': 'Alice', 'city': 'Paris'}\n",
        "if \"city\" in info :\n",
        "    print(\"city is in the dictionary\")\n",
        "else:\n",
        "  print(\"city is not in the dictionary\")"
      ],
      "metadata": {
        "colab": {
          "base_uri": "https://localhost:8080/"
        },
        "id": "O2bKxN-EBMxo",
        "outputId": "9e8cfd7f-c651-4369-f6c8-503d22dfc1a8"
      },
      "execution_count": 52,
      "outputs": [
        {
          "output_type": "stream",
          "name": "stdout",
          "text": [
            "city is in the dictionary\n"
          ]
        }
      ]
    },
    {
      "cell_type": "markdown",
      "source": [
        "**26. Write a code to create a list, a tuple, and a dictionary, and print them all.**"
      ],
      "metadata": {
        "id": "8MdWFP84CB3_"
      }
    },
    {
      "cell_type": "code",
      "source": [
        "l = [1,2,3,5.9]\n",
        "t= (1,2,3,4.5)\n",
        "dic = {\"name\":\"siddharth\",\"age\":19,\"city\":\"manasa\"}\n",
        "print(l),(t),(dic) # this give none in tuple because The first element is the return value of print(l), which is None.\n",
        "print (l)\n",
        "print(t)\n",
        "print(dic)"
      ],
      "metadata": {
        "colab": {
          "base_uri": "https://localhost:8080/"
        },
        "id": "MZbdY6IBCLns",
        "outputId": "03bd1ff4-a026-4e6c-aced-15b854614dd8"
      },
      "execution_count": 55,
      "outputs": [
        {
          "output_type": "stream",
          "name": "stdout",
          "text": [
            "[1, 2, 3, 5.9]\n",
            "[1, 2, 3, 5.9]\n",
            "(1, 2, 3, 4.5)\n",
            "{'name': 'siddharth', 'age': 19, 'city': 'manasa'}\n"
          ]
        }
      ]
    },
    {
      "cell_type": "markdown",
      "source": [
        "**27. Write a code to create a list of 5 random numbers between 1 and 100, sort it in ascending order, and print the result.(replaced).**"
      ],
      "metadata": {
        "id": "C0qeQ6CcDlMT"
      }
    },
    {
      "cell_type": "code",
      "source": [
        "numbers = [((i * 66) % 100) + 1 for i in range(1, 6)]  # Generating pseudo-random numbers\n",
        "numbers.sort()  # Sorting in ascending order\n",
        "print(numbers)\n"
      ],
      "metadata": {
        "colab": {
          "base_uri": "https://localhost:8080/"
        },
        "id": "VMWuAdiODu6Y",
        "outputId": "b7eec6b0-2055-427a-b554-1c5e80acdd45"
      },
      "execution_count": 59,
      "outputs": [
        {
          "output_type": "stream",
          "name": "stdout",
          "text": [
            "[31, 33, 65, 67, 99]\n"
          ]
        }
      ]
    },
    {
      "cell_type": "markdown",
      "source": [
        "****"
      ],
      "metadata": {
        "id": "TkHkrWpwFJ6J"
      }
    },
    {
      "cell_type": "markdown",
      "source": [
        "**28. Write a code to create a list with strings and print the element at the third index**"
      ],
      "metadata": {
        "id": "cNVi8cooF1Tj"
      }
    },
    {
      "cell_type": "code",
      "source": [
        "l = (\"siddharth\",\"manasa\",\"nimuch\",\"delhi\")\n",
        "print(l[3])"
      ],
      "metadata": {
        "colab": {
          "base_uri": "https://localhost:8080/"
        },
        "id": "tVb0wIfxF7Kl",
        "outputId": "68845925-ff80-4bb1-b669-66f134ea2849"
      },
      "execution_count": 62,
      "outputs": [
        {
          "output_type": "stream",
          "name": "stdout",
          "text": [
            "delhi\n"
          ]
        }
      ]
    },
    {
      "cell_type": "markdown",
      "source": [
        "**29. Write a code to combine two dictionaries into one and print the result.**"
      ],
      "metadata": {
        "id": "anD9wo5MGc8_"
      }
    },
    {
      "cell_type": "code",
      "source": [
        "dict1 = {\"name\":\"siddharth\",\"age\":19}\n",
        "dict2 = {\"city\":\"manasa\",\"country\":\"india\"}\n",
        "dict1.update(dict2)\n",
        "print(dict1)"
      ],
      "metadata": {
        "colab": {
          "base_uri": "https://localhost:8080/"
        },
        "id": "yi_y1-vlGcsk",
        "outputId": "12271bf6-57ba-47e5-a5ed-494e8fa982d1"
      },
      "execution_count": 63,
      "outputs": [
        {
          "output_type": "stream",
          "name": "stdout",
          "text": [
            "{'name': 'siddharth', 'age': 19, 'city': 'manasa', 'country': 'india'}\n"
          ]
        }
      ]
    },
    {
      "cell_type": "markdown",
      "source": [
        "**30. Write a code to convert a list of strings into a set**"
      ],
      "metadata": {
        "id": "qYt2pXuhHUYw"
      }
    },
    {
      "cell_type": "code",
      "source": [
        "string_list = [\"apple\", \"banana\", \"cherry\", \"apple\", \"banana\"]\n",
        "string_set = set(string_list)\n",
        "print(string_set)"
      ],
      "metadata": {
        "colab": {
          "base_uri": "https://localhost:8080/"
        },
        "id": "AFjd7tU0HZsy",
        "outputId": "8154830e-bc86-4d2e-c403-e96a8b48e6dd"
      },
      "execution_count": 64,
      "outputs": [
        {
          "output_type": "stream",
          "name": "stdout",
          "text": [
            "{'banana', 'apple', 'cherry'}\n"
          ]
        }
      ]
    }
  ]
}